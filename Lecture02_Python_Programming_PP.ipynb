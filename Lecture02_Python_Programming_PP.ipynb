{
  "nbformat": 4,
  "nbformat_minor": 0,
  "metadata": {
    "colab": {
      "name": "Lecture02_Python_Programming_PP.ipynb",
      "provenance": [],
      "toc_visible": true,
      "include_colab_link": true
    },
    "kernelspec": {
      "name": "python3",
      "display_name": "Python 3"
    },
    "language_info": {
      "name": "python"
    }
  },
  "cells": [
    {
      "cell_type": "markdown",
      "metadata": {
        "id": "view-in-github",
        "colab_type": "text"
      },
      "source": [
        "<a href=\"https://colab.research.google.com/github/Pungpeee/Pungpeee_lesson_summary/blob/master/Lecture02_Python_Programming_PP.ipynb\" target=\"_parent\"><img src=\"https://colab.research.google.com/assets/colab-badge.svg\" alt=\"Open In Colab\"/></a>"
      ]
    },
    {
      "cell_type": "markdown",
      "source": [
        "# คอมเมนต์ (Comments)"
      ],
      "metadata": {
        "id": "36kc91A65AwV"
      }
    },
    {
      "cell_type": "code",
      "source": [
        "# Line comment "
      ],
      "metadata": {
        "id": "An-IesvN5VC7"
      },
      "execution_count": null,
      "outputs": []
    },
    {
      "cell_type": "code",
      "source": [
        "\"\"\"\n",
        "Block comment\n",
        "\"\"\""
      ],
      "metadata": {
        "id": "hw5lK6WO5pzT",
        "colab": {
          "base_uri": "https://localhost:8080/",
          "height": 36
        },
        "outputId": "874a73ab-725c-4938-8e52-a29a59024a7c"
      },
      "execution_count": null,
      "outputs": [
        {
          "output_type": "execute_result",
          "data": {
            "text/plain": [
              "'\\nBlock comment\\n'"
            ],
            "application/vnd.google.colaboratory.intrinsic+json": {
              "type": "string"
            }
          },
          "metadata": {},
          "execution_count": 2
        }
      ]
    },
    {
      "cell_type": "markdown",
      "source": [
        "# ตัวแปร (Variables)"
      ],
      "metadata": {
        "id": "6O3q1Y7g6FWZ"
      }
    },
    {
      "cell_type": "code",
      "source": [
        "x = 5\n",
        "print(x)"
      ],
      "metadata": {
        "colab": {
          "base_uri": "https://localhost:8080/"
        },
        "id": "rQGBrrA9525O",
        "outputId": "14bda923-4661-48db-b90d-116ca5139009"
      },
      "execution_count": 2,
      "outputs": [
        {
          "output_type": "stream",
          "name": "stdout",
          "text": [
            "5\n"
          ]
        }
      ]
    },
    {
      "cell_type": "code",
      "source": [
        "y = 2.5\n",
        "print(y)"
      ],
      "metadata": {
        "colab": {
          "base_uri": "https://localhost:8080/"
        },
        "id": "nDk_i40Y7hlE",
        "outputId": "81472cce-aa38-4d79-9d30-fa4dcb964912"
      },
      "execution_count": 3,
      "outputs": [
        {
          "output_type": "stream",
          "name": "stdout",
          "text": [
            "2.5\n"
          ]
        }
      ]
    },
    {
      "cell_type": "code",
      "source": [
        "s = \"Harry\"\n",
        "print(s)"
      ],
      "metadata": {
        "colab": {
          "base_uri": "https://localhost:8080/"
        },
        "id": "-6-35-hz7nzF",
        "outputId": "22ae0dc9-0d86-449d-b426-06601dc2d2b2"
      },
      "execution_count": 1,
      "outputs": [
        {
          "output_type": "stream",
          "name": "stdout",
          "text": [
            "Harry\n"
          ]
        }
      ]
    },
    {
      "cell_type": "markdown",
      "source": [
        "# ชนิดข้อมูล (Data Types)"
      ],
      "metadata": {
        "id": "tQF6CtKp8oy7"
      }
    },
    {
      "cell_type": "markdown",
      "source": [
        "## ตัวเลข (Numbers)"
      ],
      "metadata": {
        "id": "T5SXil7i9rzg"
      }
    },
    {
      "cell_type": "code",
      "source": [
        "# จำนวนเต็ม\n",
        "x = 5\n",
        "print(type(x))"
      ],
      "metadata": {
        "colab": {
          "base_uri": "https://localhost:8080/"
        },
        "id": "-AdKFx2_9WEO",
        "outputId": "6f34d6c4-630d-4c83-87f4-b5c1fd9e7a9e"
      },
      "execution_count": 9,
      "outputs": [
        {
          "output_type": "stream",
          "name": "stdout",
          "text": [
            "<class 'int'>\n"
          ]
        }
      ]
    },
    {
      "cell_type": "code",
      "source": [
        "# ทศนิยม\n",
        "y = 2.5\n",
        "print(type(y))"
      ],
      "metadata": {
        "colab": {
          "base_uri": "https://localhost:8080/"
        },
        "id": "O2LPLAyY-ZsX",
        "outputId": "15455e41-c4e3-4422-f473-e234f1a5f71c"
      },
      "execution_count": null,
      "outputs": [
        {
          "output_type": "stream",
          "name": "stdout",
          "text": [
            "<class 'float'>\n"
          ]
        }
      ]
    },
    {
      "cell_type": "code",
      "source": [
        "# จำนวนเชิงซ้อน\n",
        "z = 2 + 3j\n",
        "print(type(z))"
      ],
      "metadata": {
        "colab": {
          "base_uri": "https://localhost:8080/"
        },
        "id": "xu9m33uD-kpK",
        "outputId": "b0086d5b-882e-47e4-fd6d-296c0cc6b5f2"
      },
      "execution_count": null,
      "outputs": [
        {
          "output_type": "stream",
          "name": "stdout",
          "text": [
            "<class 'complex'>\n"
          ]
        }
      ]
    },
    {
      "cell_type": "markdown",
      "source": [
        "## บูลีน (Booleans)"
      ],
      "metadata": {
        "id": "j8uxtoIv_ulc"
      }
    },
    {
      "cell_type": "code",
      "source": [
        "p = True\n",
        "print(type(p))"
      ],
      "metadata": {
        "colab": {
          "base_uri": "https://localhost:8080/"
        },
        "id": "RDc6MSaWBk51",
        "outputId": "94256583-29e6-4106-bae5-c2dea4ab7af9"
      },
      "execution_count": null,
      "outputs": [
        {
          "output_type": "stream",
          "name": "stdout",
          "text": [
            "<class 'bool'>\n"
          ]
        }
      ]
    },
    {
      "cell_type": "code",
      "source": [
        "q = False\n",
        "print(type(q))"
      ],
      "metadata": {
        "colab": {
          "base_uri": "https://localhost:8080/"
        },
        "id": "T9aXYOmnBxAR",
        "outputId": "f5ad5ff0-e37b-43fc-c5d2-d229041e4e88"
      },
      "execution_count": null,
      "outputs": [
        {
          "output_type": "stream",
          "name": "stdout",
          "text": [
            "<class 'bool'>\n"
          ]
        }
      ]
    },
    {
      "cell_type": "markdown",
      "source": [
        "## สตริง (String)"
      ],
      "metadata": {
        "id": "sWeLZ8dwB3Fi"
      }
    },
    {
      "cell_type": "code",
      "source": [
        "s1 = \"Hello\"\n",
        "print(type(s1))"
      ],
      "metadata": {
        "colab": {
          "base_uri": "https://localhost:8080/"
        },
        "id": "tSbtLI4iB---",
        "outputId": "ece33710-62ed-43aa-9d51-b37a53c53ab1"
      },
      "execution_count": null,
      "outputs": [
        {
          "output_type": "stream",
          "name": "stdout",
          "text": [
            "<class 'str'>\n"
          ]
        }
      ]
    },
    {
      "cell_type": "code",
      "source": [
        "s2 = 'Hello'\n",
        "print(type(s2))"
      ],
      "metadata": {
        "colab": {
          "base_uri": "https://localhost:8080/"
        },
        "id": "opN43BElCM4P",
        "outputId": "27fdf2c4-fd86-49a9-f8bf-576d2b819457"
      },
      "execution_count": null,
      "outputs": [
        {
          "output_type": "stream",
          "name": "stdout",
          "text": [
            "<class 'str'>\n"
          ]
        }
      ]
    },
    {
      "cell_type": "code",
      "source": [
        "print(s1 == s2)"
      ],
      "metadata": {
        "colab": {
          "base_uri": "https://localhost:8080/"
        },
        "id": "aWiNSwbKCmMR",
        "outputId": "47410fb2-3be5-441a-c0e5-7fef4ec2bc0b"
      },
      "execution_count": null,
      "outputs": [
        {
          "output_type": "stream",
          "name": "stdout",
          "text": [
            "True\n"
          ]
        }
      ]
    },
    {
      "cell_type": "markdown",
      "source": [
        "## ลิสต์ (Lists)\n",
        "\n",
        "\n",
        "*   เป็นชุดข้อมูลแบบมีลำดับ (Ordered) ลำดับที่ 0,1,2 มีตำแหน่งที่แน่นอน\n",
        "*   เปลี่ยนแปลงค่าได้ (Mutable) แก้ไขค่าได้\n",
        "*   มีข้อมูลซ้ำกันได้ (Duplicate members)\n",
        "\n"
      ],
      "metadata": {
        "id": "MrR7bh_tC7g6"
      }
    },
    {
      "cell_type": "code",
      "source": [
        "# การสร้าง Lists\n",
        "my_list = [1,2.5,\"Hello\"]"
      ],
      "metadata": {
        "id": "yvm4W_v6DMym"
      },
      "execution_count": 17,
      "outputs": []
    },
    {
      "cell_type": "code",
      "source": [
        "print(my_list)"
      ],
      "metadata": {
        "colab": {
          "base_uri": "https://localhost:8080/"
        },
        "id": "Ymxz16mrFNJQ",
        "outputId": "d097f9ee-9689-4e8d-d92e-f2492940fec5"
      },
      "execution_count": 18,
      "outputs": [
        {
          "output_type": "stream",
          "name": "stdout",
          "text": [
            "[1, 2.5, 'Hello']\n"
          ]
        }
      ]
    },
    {
      "cell_type": "code",
      "source": [
        "print(type(my_list))"
      ],
      "metadata": {
        "colab": {
          "base_uri": "https://localhost:8080/"
        },
        "id": "CPpGJeYiFf4V",
        "outputId": "59929708-f61f-4968-eeca-3e0b6a02713b"
      },
      "execution_count": 19,
      "outputs": [
        {
          "output_type": "stream",
          "name": "stdout",
          "text": [
            "<class 'list'>\n"
          ]
        }
      ]
    },
    {
      "cell_type": "code",
      "source": [
        "# การเข้าถึงข้อมูล\n",
        "print(my_list[0])"
      ],
      "metadata": {
        "colab": {
          "base_uri": "https://localhost:8080/"
        },
        "id": "LEmFcPDJGcgn",
        "outputId": "3889ce2d-9200-46c2-a201-30f55945c5b1"
      },
      "execution_count": 20,
      "outputs": [
        {
          "output_type": "stream",
          "name": "stdout",
          "text": [
            "1\n"
          ]
        }
      ]
    },
    {
      "cell_type": "code",
      "source": [
        "print(my_list[1])"
      ],
      "metadata": {
        "colab": {
          "base_uri": "https://localhost:8080/"
        },
        "id": "aIANU1ISHBJB",
        "outputId": "0d8b2d86-111e-4d26-8210-83ca2fc81d3a"
      },
      "execution_count": 21,
      "outputs": [
        {
          "output_type": "stream",
          "name": "stdout",
          "text": [
            "2.5\n"
          ]
        }
      ]
    },
    {
      "cell_type": "code",
      "source": [
        "print(my_list[2])"
      ],
      "metadata": {
        "colab": {
          "base_uri": "https://localhost:8080/"
        },
        "id": "HlXp6qsYHHBu",
        "outputId": "8f0585be-ebb0-470e-c85b-1fe7c41b3d9f"
      },
      "execution_count": 22,
      "outputs": [
        {
          "output_type": "stream",
          "name": "stdout",
          "text": [
            "Hello\n"
          ]
        }
      ]
    },
    {
      "cell_type": "code",
      "source": [
        "# การเพิ่มข้อมูล\n",
        "my_list.append('A')\n",
        "print(my_list)"
      ],
      "metadata": {
        "colab": {
          "base_uri": "https://localhost:8080/"
        },
        "id": "FdNg0jSyHV1d",
        "outputId": "4124943c-68ca-423a-af11-77232fbdf823"
      },
      "execution_count": 25,
      "outputs": [
        {
          "output_type": "stream",
          "name": "stdout",
          "text": [
            "[1, 2.5, 'Hello', 'A', 'A']\n"
          ]
        }
      ]
    },
    {
      "cell_type": "code",
      "source": [
        "# การแก้ไขข้อมูล\n",
        "my_list[3] = 'B'\n",
        "print(my_list)"
      ],
      "metadata": {
        "colab": {
          "base_uri": "https://localhost:8080/"
        },
        "id": "dYv1GnzRHtDQ",
        "outputId": "08b473c2-7cde-4cac-bd1b-6a9d6849896b"
      },
      "execution_count": 26,
      "outputs": [
        {
          "output_type": "stream",
          "name": "stdout",
          "text": [
            "[1, 2.5, 'Hello', 'B', 'A']\n"
          ]
        }
      ]
    },
    {
      "cell_type": "code",
      "source": [
        "my_list.remove('A')\n",
        "print(my_list)"
      ],
      "metadata": {
        "colab": {
          "base_uri": "https://localhost:8080/"
        },
        "id": "jrBjjYn76vZZ",
        "outputId": "cb6a9706-f136-4fa5-df51-5833547af642"
      },
      "execution_count": 27,
      "outputs": [
        {
          "output_type": "stream",
          "name": "stdout",
          "text": [
            "[1, 2.5, 'Hello', 'B']\n"
          ]
        }
      ]
    },
    {
      "cell_type": "code",
      "source": [
        "# การลบข้อมูล\n",
        "my_list.remove('B')\n",
        "print(my_list)"
      ],
      "metadata": {
        "colab": {
          "base_uri": "https://localhost:8080/"
        },
        "id": "ih8F-RreIHJB",
        "outputId": "02b96aa7-36fb-4e06-cc0d-a4ab5bc01f01"
      },
      "execution_count": 28,
      "outputs": [
        {
          "output_type": "stream",
          "name": "stdout",
          "text": [
            "[1, 2.5, 'Hello']\n"
          ]
        }
      ]
    },
    {
      "cell_type": "markdown",
      "source": [
        "## ทูเพิล (Tuples)\n",
        "\n",
        "*   เป็นชุดข้อมูลแบบมีลำดับ (Ordered)\n",
        "*   เปลี่ยนแปลงค่าไม่ได้ (Immutable)\n",
        "*   มีข้อมูลซ้ำกันได้"
      ],
      "metadata": {
        "id": "CZy9r1CaImH8"
      }
    },
    {
      "cell_type": "code",
      "source": [
        "# การสร้าง Tuples\n",
        "my_tuple = (1,2.5,\"Hello\")"
      ],
      "metadata": {
        "id": "XOxhCGPIJXWq"
      },
      "execution_count": null,
      "outputs": []
    },
    {
      "cell_type": "code",
      "source": [
        "p_tuple = (1,2,\"M\")\n",
        "p_lists = [1,2,\"M\"]\n",
        "print(type(p_tuple))\n",
        "print(type(p_lists))"
      ],
      "metadata": {
        "colab": {
          "base_uri": "https://localhost:8080/"
        },
        "id": "iAKrU4QX7n67",
        "outputId": "81e69770-a0a2-4fce-fe7d-fc1a13aa565c"
      },
      "execution_count": 29,
      "outputs": [
        {
          "output_type": "stream",
          "name": "stdout",
          "text": [
            "<class 'tuple'>\n",
            "<class 'list'>\n"
          ]
        }
      ]
    },
    {
      "cell_type": "code",
      "source": [
        "print(my_tuple)"
      ],
      "metadata": {
        "colab": {
          "base_uri": "https://localhost:8080/"
        },
        "id": "CNyIgNWGJwbY",
        "outputId": "0cd0e37d-e1be-48e5-8c72-924c8806b36b"
      },
      "execution_count": null,
      "outputs": [
        {
          "output_type": "stream",
          "name": "stdout",
          "text": [
            "(1, 2.5, 'Hello')\n"
          ]
        }
      ]
    },
    {
      "cell_type": "code",
      "source": [
        "print(type(my_tuple))"
      ],
      "metadata": {
        "colab": {
          "base_uri": "https://localhost:8080/"
        },
        "id": "NHnvAdwQJ3qx",
        "outputId": "a66d9e94-823f-402f-d9f5-5886ad4b38a0"
      },
      "execution_count": null,
      "outputs": [
        {
          "output_type": "stream",
          "name": "stdout",
          "text": [
            "<class 'tuple'>\n"
          ]
        }
      ]
    },
    {
      "cell_type": "code",
      "source": [
        "# การเข้าถึงข้อมูล\n",
        "print(my_tuple[0])"
      ],
      "metadata": {
        "colab": {
          "base_uri": "https://localhost:8080/"
        },
        "id": "3k0qzdG3J_bV",
        "outputId": "bd977259-290d-413e-e5ef-e9721dd699e2"
      },
      "execution_count": null,
      "outputs": [
        {
          "output_type": "stream",
          "name": "stdout",
          "text": [
            "1\n"
          ]
        }
      ]
    },
    {
      "cell_type": "code",
      "source": [
        "print(my_tuple[1])"
      ],
      "metadata": {
        "colab": {
          "base_uri": "https://localhost:8080/"
        },
        "id": "XjxJP7QoKLjp",
        "outputId": "213ac28d-3b1d-454e-9bf0-7c3d4fb46394"
      },
      "execution_count": null,
      "outputs": [
        {
          "output_type": "stream",
          "name": "stdout",
          "text": [
            "2.5\n"
          ]
        }
      ]
    },
    {
      "cell_type": "code",
      "source": [
        "print(my_tuple[2])"
      ],
      "metadata": {
        "colab": {
          "base_uri": "https://localhost:8080/"
        },
        "id": "6hBGL_iNKOyh",
        "outputId": "36a96783-cecb-41bc-c309-7b83c308bdff"
      },
      "execution_count": null,
      "outputs": [
        {
          "output_type": "stream",
          "name": "stdout",
          "text": [
            "Hello\n"
          ]
        }
      ]
    },
    {
      "cell_type": "markdown",
      "source": [
        "## เซต (Sets)\n",
        "\n",
        "\n",
        "*   เป็นชุดข้อมูลแบบไม่มีลำดับ (Unordered)\n",
        "*   เปลี่ยนแปลงค่าได้ (Mutable)\n",
        "*   ไม่สามารถเข้าถึงข้อมูลโดยใช้ index\n",
        "*   ข้อมูลซ้ำกันไม่ได้\n",
        "\n"
      ],
      "metadata": {
        "id": "CmOJAnxyKWxA"
      }
    },
    {
      "cell_type": "code",
      "source": [
        "# การสร้าง Set\n",
        "my_set = {1,2.5,\"Hello\"}"
      ],
      "metadata": {
        "id": "1-DVHy-zKyUR"
      },
      "execution_count": 30,
      "outputs": []
    },
    {
      "cell_type": "code",
      "source": [
        "print(my_set)"
      ],
      "metadata": {
        "colab": {
          "base_uri": "https://localhost:8080/"
        },
        "id": "FKWBfWwWLDaX",
        "outputId": "280f8f86-d487-4a9a-ac96-afd3de7be019"
      },
      "execution_count": 31,
      "outputs": [
        {
          "output_type": "stream",
          "name": "stdout",
          "text": [
            "{1, 2.5, 'Hello'}\n"
          ]
        }
      ]
    },
    {
      "cell_type": "code",
      "source": [
        "print(type(my_set))"
      ],
      "metadata": {
        "colab": {
          "base_uri": "https://localhost:8080/"
        },
        "id": "uwu8BeysLG0W",
        "outputId": "97dad441-534e-4ea7-c980-c0ef0334b61f"
      },
      "execution_count": 32,
      "outputs": [
        {
          "output_type": "stream",
          "name": "stdout",
          "text": [
            "<class 'set'>\n"
          ]
        }
      ]
    },
    {
      "cell_type": "code",
      "source": [
        "# การเพิ่มข้อมูล\n",
        "my_set.add('A')\n",
        "print(my_set)"
      ],
      "metadata": {
        "colab": {
          "base_uri": "https://localhost:8080/"
        },
        "id": "pgNI3OBsLZnR",
        "outputId": "9677575b-bce9-45be-f44d-5168b34c0e88"
      },
      "execution_count": 33,
      "outputs": [
        {
          "output_type": "stream",
          "name": "stdout",
          "text": [
            "{1, 2.5, 'Hello', 'A'}\n"
          ]
        }
      ]
    },
    {
      "cell_type": "code",
      "source": [
        "# การลบข้อมูล\n",
        "my_set.remove('A')\n",
        "print(my_set)"
      ],
      "metadata": {
        "colab": {
          "base_uri": "https://localhost:8080/"
        },
        "id": "IeYpWME7LwX6",
        "outputId": "103fd6e9-dfda-4204-fa28-fcd768aa48b8"
      },
      "execution_count": 34,
      "outputs": [
        {
          "output_type": "stream",
          "name": "stdout",
          "text": [
            "{1, 2.5, 'Hello'}\n"
          ]
        }
      ]
    },
    {
      "cell_type": "code",
      "source": [
        "# การเข้าถึงข้อมูล\n",
        "for x in my_set:\n",
        "  print(x)"
      ],
      "metadata": {
        "colab": {
          "base_uri": "https://localhost:8080/"
        },
        "id": "pCAoF5mNMOfk",
        "outputId": "b580d516-cac3-49b5-c8bd-541ec127dc8d"
      },
      "execution_count": 35,
      "outputs": [
        {
          "output_type": "stream",
          "name": "stdout",
          "text": [
            "1\n",
            "2.5\n",
            "Hello\n"
          ]
        }
      ]
    },
    {
      "cell_type": "code",
      "source": [
        "for x in my_set:\n",
        "   print(x)\n",
        "   "
      ],
      "metadata": {
        "colab": {
          "base_uri": "https://localhost:8080/"
        },
        "id": "ytPiLPmk8Kw_",
        "outputId": "aa01f657-4273-470b-a166-d527b54376e4"
      },
      "execution_count": 39,
      "outputs": [
        {
          "output_type": "stream",
          "name": "stdout",
          "text": [
            "1\n",
            "2.5\n",
            "Hello\n"
          ]
        }
      ]
    },
    {
      "cell_type": "markdown",
      "source": [
        "## ดิกชันนารี (Dictionaries)\n",
        "\n",
        "*   เป็นชุดข้อมูลที่เก็บในรูปแบบของคู่ key:value\n",
        "*   เปลี่ยนแปลงค่าได้ (Mutable)\n",
        "*   ข้อมูลซ้ำกันไม่ได้\n",
        "\n"
      ],
      "metadata": {
        "id": "U2o8TF-DMjTZ"
      }
    },
    {
      "cell_type": "code",
      "source": [
        "# การสร้าง Dictionaries\n",
        "my_dict = {'name':'John', 'age':20, 'height':175.5}"
      ],
      "metadata": {
        "id": "0P8A7QKoMvVI"
      },
      "execution_count": null,
      "outputs": []
    },
    {
      "cell_type": "code",
      "source": [
        "print(my_dict)"
      ],
      "metadata": {
        "colab": {
          "base_uri": "https://localhost:8080/"
        },
        "id": "2bFvlOnjNlGn",
        "outputId": "985a2d77-4e0d-41c2-c0e6-5fbb2f40e76f"
      },
      "execution_count": null,
      "outputs": [
        {
          "output_type": "stream",
          "name": "stdout",
          "text": [
            "{'name': 'John', 'age': 20, 'height': 175.5}\n"
          ]
        }
      ]
    },
    {
      "cell_type": "code",
      "source": [
        "print(type(my_dict))"
      ],
      "metadata": {
        "colab": {
          "base_uri": "https://localhost:8080/"
        },
        "id": "GpevTsSHNq1O",
        "outputId": "df193d6b-d0ce-4e80-8567-87fb04eb085e"
      },
      "execution_count": null,
      "outputs": [
        {
          "output_type": "stream",
          "name": "stdout",
          "text": [
            "<class 'dict'>\n"
          ]
        }
      ]
    },
    {
      "cell_type": "code",
      "source": [
        "# การเข้าถึงข้อมูล\n",
        "print(my_dict['name'])"
      ],
      "metadata": {
        "colab": {
          "base_uri": "https://localhost:8080/"
        },
        "id": "GnyM1M6cNxqe",
        "outputId": "c6d4a74b-f744-4ae8-e4ec-d5576146e7d0"
      },
      "execution_count": null,
      "outputs": [
        {
          "output_type": "stream",
          "name": "stdout",
          "text": [
            "John\n"
          ]
        }
      ]
    },
    {
      "cell_type": "code",
      "source": [
        "# การเพิ่มข้อมูล\n",
        "my_dict['weight'] = 60\n",
        "print(my_dict)"
      ],
      "metadata": {
        "colab": {
          "base_uri": "https://localhost:8080/"
        },
        "id": "0sewDuX2ODZx",
        "outputId": "cb68e50b-0ffc-488f-d889-806430ef1a61"
      },
      "execution_count": null,
      "outputs": [
        {
          "output_type": "stream",
          "name": "stdout",
          "text": [
            "{'name': 'John', 'age': 20, 'height': 175.5, 'weight': 60}\n"
          ]
        }
      ]
    },
    {
      "cell_type": "code",
      "source": [
        "# การแก้ไขข้อมูล\n",
        "my_dict['height'] = 180\n",
        "print(my_dict)"
      ],
      "metadata": {
        "colab": {
          "base_uri": "https://localhost:8080/"
        },
        "id": "rkhJdZ_jOmxf",
        "outputId": "2b499875-3e78-473a-aabc-1234ba9c5949"
      },
      "execution_count": null,
      "outputs": [
        {
          "output_type": "stream",
          "name": "stdout",
          "text": [
            "{'name': 'John', 'age': 20, 'height': 180, 'weight': 60}\n"
          ]
        }
      ]
    },
    {
      "cell_type": "code",
      "source": [
        "# การลบข้อมูล\n",
        "my_dict.pop('weight')\n",
        "print(my_dict)"
      ],
      "metadata": {
        "colab": {
          "base_uri": "https://localhost:8080/"
        },
        "id": "ZYMMkAuiO5J1",
        "outputId": "1b991067-ff03-45aa-caf2-7b0f24b272d4"
      },
      "execution_count": null,
      "outputs": [
        {
          "output_type": "stream",
          "name": "stdout",
          "text": [
            "{'name': 'John', 'age': 20, 'height': 180}\n"
          ]
        }
      ]
    },
    {
      "cell_type": "markdown",
      "source": [
        "# ตัวดำเนินการ (Operators)"
      ],
      "metadata": {
        "id": "xoRxjB_9PlHr"
      }
    },
    {
      "cell_type": "markdown",
      "source": [
        "## ตัวดำเนินการคณิตศาสตร์ (Arithmetic Operators)"
      ],
      "metadata": {
        "id": "4qgOw51zv-dz"
      }
    },
    {
      "cell_type": "code",
      "source": [
        "x = 20\n",
        "y = 3"
      ],
      "metadata": {
        "id": "nr9NcY7ovEqw"
      },
      "execution_count": 40,
      "outputs": []
    },
    {
      "cell_type": "code",
      "source": [
        "# บวก (+)\n",
        "print(x+y)"
      ],
      "metadata": {
        "colab": {
          "base_uri": "https://localhost:8080/"
        },
        "id": "Sn9Cn16_vhjd",
        "outputId": "54624074-eea4-4dc1-89a2-d067ba03633e"
      },
      "execution_count": 41,
      "outputs": [
        {
          "output_type": "stream",
          "name": "stdout",
          "text": [
            "23\n"
          ]
        }
      ]
    },
    {
      "cell_type": "code",
      "source": [
        "# ลบ (-)\n",
        "print(x-y)"
      ],
      "metadata": {
        "colab": {
          "base_uri": "https://localhost:8080/"
        },
        "id": "DCUw2H7Gvkd1",
        "outputId": "cd3d96b2-4bf1-4f9f-e047-7d5a3b1ba7aa"
      },
      "execution_count": 42,
      "outputs": [
        {
          "output_type": "stream",
          "name": "stdout",
          "text": [
            "17\n"
          ]
        }
      ]
    },
    {
      "cell_type": "code",
      "source": [
        "# คูณ (*)\n",
        "print(x*y)"
      ],
      "metadata": {
        "colab": {
          "base_uri": "https://localhost:8080/"
        },
        "id": "8XsKjzqnvm_8",
        "outputId": "407c4e51-ddc1-4eff-f599-4f78afc69341"
      },
      "execution_count": null,
      "outputs": [
        {
          "output_type": "stream",
          "name": "stdout",
          "text": [
            "60\n"
          ]
        }
      ]
    },
    {
      "cell_type": "code",
      "source": [
        "# หาร (/)\n",
        "print(x/y)"
      ],
      "metadata": {
        "colab": {
          "base_uri": "https://localhost:8080/"
        },
        "id": "RsDxyjgmvqKu",
        "outputId": "eae48256-a9ed-4d39-eafd-713c3e7bb269"
      },
      "execution_count": null,
      "outputs": [
        {
          "output_type": "stream",
          "name": "stdout",
          "text": [
            "6.666666666666667\n"
          ]
        }
      ]
    },
    {
      "cell_type": "code",
      "source": [
        "# หารเอาเศษ (%)\n",
        "print(x%y)"
      ],
      "metadata": {
        "colab": {
          "base_uri": "https://localhost:8080/"
        },
        "id": "enWGipy3vsos",
        "outputId": "65f6ef89-3531-4730-c738-f64b49e67a57"
      },
      "execution_count": 43,
      "outputs": [
        {
          "output_type": "stream",
          "name": "stdout",
          "text": [
            "2\n"
          ]
        }
      ]
    },
    {
      "cell_type": "code",
      "source": [
        "# หารเอาจำนวนเต็ม (//)\n",
        "print(x//y)"
      ],
      "metadata": {
        "colab": {
          "base_uri": "https://localhost:8080/"
        },
        "id": "HuAQTkYGvxI9",
        "outputId": "30b6e4d3-828b-4c25-a24b-b728c1f4fb0b"
      },
      "execution_count": 44,
      "outputs": [
        {
          "output_type": "stream",
          "name": "stdout",
          "text": [
            "6\n"
          ]
        }
      ]
    },
    {
      "cell_type": "code",
      "source": [
        "# ยกกำลัง (**)\n",
        "print(x**y)"
      ],
      "metadata": {
        "colab": {
          "base_uri": "https://localhost:8080/"
        },
        "id": "g9GyIkqzvzR1",
        "outputId": "5227b726-670f-41fe-b2b3-e11b78602946"
      },
      "execution_count": 45,
      "outputs": [
        {
          "output_type": "stream",
          "name": "stdout",
          "text": [
            "8000\n"
          ]
        }
      ]
    },
    {
      "cell_type": "markdown",
      "source": [
        "## ตัวดำเนินการกำหนดค่า (Assignment Operators)\n",
        "ใช้สำหรับกำหนดค่าให้กับตัวแปร"
      ],
      "metadata": {
        "id": "92pS7CrZR9V2"
      }
    },
    {
      "cell_type": "code",
      "source": [
        "# กำหนดค่า (=)\n",
        "x = 7\n",
        "print(x)"
      ],
      "metadata": {
        "colab": {
          "base_uri": "https://localhost:8080/"
        },
        "id": "JoExMFKY6sDf",
        "outputId": "196f73e8-7038-4c71-8f45-2b7138b0bf85"
      },
      "execution_count": 46,
      "outputs": [
        {
          "output_type": "stream",
          "name": "stdout",
          "text": [
            "7\n"
          ]
        }
      ]
    },
    {
      "cell_type": "code",
      "source": [
        "x = 5\n",
        "# บวกก่อนแล้วกำหนดค่า (+=)\n",
        "x += 3\n",
        "print(x)"
      ],
      "metadata": {
        "colab": {
          "base_uri": "https://localhost:8080/"
        },
        "id": "lZ8hp8Vfx6XU",
        "outputId": "f9cade08-2c34-42f4-9b9e-781307b3f479"
      },
      "execution_count": 47,
      "outputs": [
        {
          "output_type": "stream",
          "name": "stdout",
          "text": [
            "8\n"
          ]
        }
      ]
    },
    {
      "cell_type": "code",
      "source": [
        "x = 5\n",
        "# ลบก่อนแล้วกำหนดค่า (-=)\n",
        "x -= 3\n",
        "print(x)"
      ],
      "metadata": {
        "colab": {
          "base_uri": "https://localhost:8080/"
        },
        "id": "BsotPRG6x-tE",
        "outputId": "9c3e3732-a711-4839-89cf-77d6ea65796c"
      },
      "execution_count": null,
      "outputs": [
        {
          "output_type": "stream",
          "name": "stdout",
          "text": [
            "2\n"
          ]
        }
      ]
    },
    {
      "cell_type": "code",
      "source": [
        "x = 5\n",
        "# คูณก่อนแล้วกำหนดค่า (*=)\n",
        "x *= 3\n",
        "print(x)"
      ],
      "metadata": {
        "colab": {
          "base_uri": "https://localhost:8080/"
        },
        "id": "7ohzwFIDyBP7",
        "outputId": "132fcb38-1e2c-4420-8149-d595a5a33ab2"
      },
      "execution_count": null,
      "outputs": [
        {
          "output_type": "stream",
          "name": "stdout",
          "text": [
            "15\n"
          ]
        }
      ]
    },
    {
      "cell_type": "code",
      "source": [
        "x = 5\n",
        "# หารก่อนแล้วกำหนดค่า (/=)\n",
        "x /= 3\n",
        "print(x)"
      ],
      "metadata": {
        "colab": {
          "base_uri": "https://localhost:8080/"
        },
        "id": "bnft0guf5wkX",
        "outputId": "c4147de7-3d1c-4630-c9c2-3668f040f6ca"
      },
      "execution_count": null,
      "outputs": [
        {
          "output_type": "stream",
          "name": "stdout",
          "text": [
            "1.6666666666666667\n"
          ]
        }
      ]
    },
    {
      "cell_type": "code",
      "source": [
        "x = 5\n",
        "# หารเอาเศษแล้วกำหนดค่า (%=)\n",
        "x %= 3\n",
        "print(x)"
      ],
      "metadata": {
        "colab": {
          "base_uri": "https://localhost:8080/"
        },
        "id": "voUt25bfyDDO",
        "outputId": "8ced73f1-1b61-4276-d042-a2a3d18667f8"
      },
      "execution_count": null,
      "outputs": [
        {
          "output_type": "stream",
          "name": "stdout",
          "text": [
            "2\n"
          ]
        }
      ]
    },
    {
      "cell_type": "code",
      "source": [
        "x = 5\n",
        "# หารเอาจำนวนเต็มแล้วกำหนดค่า (//=) \n",
        "x //= 3\n",
        "print(x)"
      ],
      "metadata": {
        "colab": {
          "base_uri": "https://localhost:8080/"
        },
        "id": "Twn4kgnTyFUU",
        "outputId": "fb7a2fe2-76c0-49ac-97b9-ec3aef89ba81"
      },
      "execution_count": null,
      "outputs": [
        {
          "output_type": "stream",
          "name": "stdout",
          "text": [
            "1\n"
          ]
        }
      ]
    },
    {
      "cell_type": "code",
      "source": [
        "x = 5\n",
        "# ยกกำลังแล้วกำหนดค่า (**=)\n",
        "x **= 3\n",
        "print(x)"
      ],
      "metadata": {
        "colab": {
          "base_uri": "https://localhost:8080/"
        },
        "id": "AHw4PliayNHv",
        "outputId": "18553c7b-02be-404c-c5af-1beedac6c71f"
      },
      "execution_count": null,
      "outputs": [
        {
          "output_type": "stream",
          "name": "stdout",
          "text": [
            "125\n"
          ]
        }
      ]
    },
    {
      "cell_type": "markdown",
      "source": [
        "## ตัวดำเนินการเปรียบเทียบ (Comparison Operators)"
      ],
      "metadata": {
        "id": "njJlKXiOSI6o"
      }
    },
    {
      "cell_type": "code",
      "source": [
        "x = 5"
      ],
      "metadata": {
        "id": "VTM2QfNYSYrF"
      },
      "execution_count": null,
      "outputs": []
    },
    {
      "cell_type": "code",
      "source": [
        "# เท่ากับ (=)\n",
        "print(x == 5)"
      ],
      "metadata": {
        "colab": {
          "base_uri": "https://localhost:8080/"
        },
        "id": "dwY0hcElScS0",
        "outputId": "9b577e98-83b0-4e53-936b-74a3ab29d4b1"
      },
      "execution_count": null,
      "outputs": [
        {
          "output_type": "stream",
          "name": "stdout",
          "text": [
            "True\n"
          ]
        }
      ]
    },
    {
      "cell_type": "code",
      "source": [
        "# ไม่เท่ากับ (!=)\n",
        "print(x != 5)"
      ],
      "metadata": {
        "colab": {
          "base_uri": "https://localhost:8080/"
        },
        "id": "_oQGjkkSy4G-",
        "outputId": "91ccaabf-8039-496e-d9d2-a8d14bc9b42e"
      },
      "execution_count": null,
      "outputs": [
        {
          "output_type": "stream",
          "name": "stdout",
          "text": [
            "False\n"
          ]
        }
      ]
    },
    {
      "cell_type": "code",
      "source": [
        "# มากกว่า (>)\n",
        "print(x > 5)"
      ],
      "metadata": {
        "colab": {
          "base_uri": "https://localhost:8080/"
        },
        "id": "5YLMN5GgShxQ",
        "outputId": "bf2ff212-e4f3-4492-a6ff-7a9387d1171d"
      },
      "execution_count": null,
      "outputs": [
        {
          "output_type": "stream",
          "name": "stdout",
          "text": [
            "False\n"
          ]
        }
      ]
    },
    {
      "cell_type": "code",
      "source": [
        "# มากกว่าหรือเท่ากับ (>=)\n",
        "print(x >= 5)"
      ],
      "metadata": {
        "colab": {
          "base_uri": "https://localhost:8080/"
        },
        "id": "tlbz-hPDSn8L",
        "outputId": "769b4a4b-288a-4b54-f8dd-d9f8c6a228eb"
      },
      "execution_count": null,
      "outputs": [
        {
          "output_type": "stream",
          "name": "stdout",
          "text": [
            "True\n"
          ]
        }
      ]
    },
    {
      "cell_type": "code",
      "source": [
        "# น้อยกว่า (<)\n",
        "print(x < 5)"
      ],
      "metadata": {
        "colab": {
          "base_uri": "https://localhost:8080/"
        },
        "id": "4S3ejMgaSrl3",
        "outputId": "b081be0d-cf59-409d-c5db-e28c5b24bbb0"
      },
      "execution_count": null,
      "outputs": [
        {
          "output_type": "stream",
          "name": "stdout",
          "text": [
            "False\n"
          ]
        }
      ]
    },
    {
      "cell_type": "code",
      "source": [
        "# น้อยกว่าหรือเท่ากับ (<=)\n",
        "print(x <= 5)"
      ],
      "metadata": {
        "colab": {
          "base_uri": "https://localhost:8080/"
        },
        "id": "SARu4KtSSvJY",
        "outputId": "bbb95a06-a486-413e-a010-536d69f84746"
      },
      "execution_count": null,
      "outputs": [
        {
          "output_type": "stream",
          "name": "stdout",
          "text": [
            "True\n"
          ]
        }
      ]
    },
    {
      "cell_type": "markdown",
      "source": [
        "## ตัวดำเนินการตรรกศาสตร์ (Logical Operators)"
      ],
      "metadata": {
        "id": "9bc9qL69S4xj"
      }
    },
    {
      "cell_type": "code",
      "source": [
        "x = 5"
      ],
      "metadata": {
        "id": "8H8L1aIKTMp1"
      },
      "execution_count": null,
      "outputs": []
    },
    {
      "cell_type": "code",
      "source": [
        "# และ (and)\n",
        "print(x < 5 and x < 10)"
      ],
      "metadata": {
        "colab": {
          "base_uri": "https://localhost:8080/"
        },
        "id": "UwrZIKR_TDdM",
        "outputId": "65c9b337-df85-4701-821e-74bba352f8fc"
      },
      "execution_count": null,
      "outputs": [
        {
          "output_type": "stream",
          "name": "stdout",
          "text": [
            "False\n"
          ]
        }
      ]
    },
    {
      "cell_type": "code",
      "source": [
        "# หรือ (or)\n",
        "print(x < 5 or x < 10)"
      ],
      "metadata": {
        "colab": {
          "base_uri": "https://localhost:8080/"
        },
        "id": "st2uBCjfTPpj",
        "outputId": "b06c0abe-77c2-4d2d-8d21-9acd09157117"
      },
      "execution_count": null,
      "outputs": [
        {
          "output_type": "stream",
          "name": "stdout",
          "text": [
            "True\n"
          ]
        }
      ]
    },
    {
      "cell_type": "code",
      "source": [
        "# นิเสธ (not)\n",
        "print(not (x < 5 or x < 10))"
      ],
      "metadata": {
        "colab": {
          "base_uri": "https://localhost:8080/"
        },
        "id": "Hd6Iin4jTXd_",
        "outputId": "a339fa5c-af30-4cec-9dba-bb74f1ef2cb3"
      },
      "execution_count": null,
      "outputs": [
        {
          "output_type": "stream",
          "name": "stdout",
          "text": [
            "False\n"
          ]
        }
      ]
    },
    {
      "cell_type": "markdown",
      "source": [
        "## ตัวดำเนินการสมาชิก (Membership Operators)\n",
        "ใช้ตรวจสอบว่าเป็นสมาชิกใน List, Tuple, Set, และ Dictionary หรือไม่ "
      ],
      "metadata": {
        "id": "PZpGAhU90Huf"
      }
    },
    {
      "cell_type": "code",
      "source": [
        "my_set = {1, 2, 3, 4, 5}"
      ],
      "metadata": {
        "id": "C90I_Jnd09s_"
      },
      "execution_count": 49,
      "outputs": []
    },
    {
      "cell_type": "code",
      "source": [
        "print(1 in my_set)"
      ],
      "metadata": {
        "colab": {
          "base_uri": "https://localhost:8080/"
        },
        "id": "XELkFEl11B2m",
        "outputId": "9b94d3f4-c55f-445a-a895-784967807b6a"
      },
      "execution_count": 50,
      "outputs": [
        {
          "output_type": "stream",
          "name": "stdout",
          "text": [
            "True\n"
          ]
        }
      ]
    },
    {
      "cell_type": "code",
      "source": [
        "print(6 in my_set)"
      ],
      "metadata": {
        "colab": {
          "base_uri": "https://localhost:8080/"
        },
        "id": "gYYcBQ0W1L1m",
        "outputId": "dcbd59c3-0e04-4c17-99bd-05de23f2ae63"
      },
      "execution_count": 51,
      "outputs": [
        {
          "output_type": "stream",
          "name": "stdout",
          "text": [
            "False\n"
          ]
        }
      ]
    },
    {
      "cell_type": "code",
      "source": [
        "print(1 not in my_set)"
      ],
      "metadata": {
        "colab": {
          "base_uri": "https://localhost:8080/"
        },
        "id": "spNzzsTY1QQF",
        "outputId": "c415c0d7-b51f-49a6-cf95-7d86c1ee5f49"
      },
      "execution_count": 53,
      "outputs": [
        {
          "output_type": "stream",
          "name": "stdout",
          "text": [
            "False\n"
          ]
        }
      ]
    },
    {
      "cell_type": "code",
      "source": [
        "print(6 not in my_set)"
      ],
      "metadata": {
        "colab": {
          "base_uri": "https://localhost:8080/"
        },
        "id": "__-YTqbZ1kcG",
        "outputId": "06e0fbe3-5c4d-423d-8f8c-3d75fd64b091"
      },
      "execution_count": 54,
      "outputs": [
        {
          "output_type": "stream",
          "name": "stdout",
          "text": [
            "True\n"
          ]
        }
      ]
    },
    {
      "cell_type": "markdown",
      "source": [
        "## ตัวดำเนินการเอกลักษณ์ (Identity Operators)\n",
        "ใช้สำหรับเปรียบเทียบ Object ว่าเป็น Object เดียวกันหรือไม่"
      ],
      "metadata": {
        "id": "6cA7kCbu17yM"
      }
    },
    {
      "cell_type": "code",
      "source": [
        "x = [\"one\", \"two\", \"three\"]\n",
        "y = [\"one\", \"two\", \"three\"]\n",
        "z = x"
      ],
      "metadata": {
        "id": "FDiUAYZG-RN2"
      },
      "execution_count": 55,
      "outputs": []
    },
    {
      "cell_type": "code",
      "source": [
        "print(x is y)"
      ],
      "metadata": {
        "colab": {
          "base_uri": "https://localhost:8080/"
        },
        "id": "KPOGMjWu2Crh",
        "outputId": "28cd7947-cc0d-4a96-b853-d10358b846f6"
      },
      "execution_count": 56,
      "outputs": [
        {
          "output_type": "stream",
          "name": "stdout",
          "text": [
            "False\n"
          ]
        }
      ]
    },
    {
      "cell_type": "code",
      "source": [
        "print(x is not y)"
      ],
      "metadata": {
        "colab": {
          "base_uri": "https://localhost:8080/"
        },
        "id": "LCcWoTsH2D9V",
        "outputId": "646ea2ef-5010-4d0c-8f37-2061ce0239c6"
      },
      "execution_count": null,
      "outputs": [
        {
          "output_type": "stream",
          "name": "stdout",
          "text": [
            "True\n"
          ]
        }
      ]
    },
    {
      "cell_type": "code",
      "source": [
        "print(x is z)"
      ],
      "metadata": {
        "colab": {
          "base_uri": "https://localhost:8080/"
        },
        "id": "_AApokT5-hd0",
        "outputId": "fd5ce7e3-421b-476a-ebb5-6d9a13e765c8"
      },
      "execution_count": null,
      "outputs": [
        {
          "output_type": "stream",
          "name": "stdout",
          "text": [
            "True\n"
          ]
        }
      ]
    },
    {
      "cell_type": "markdown",
      "source": [
        "# คำสั่ง (Statements)"
      ],
      "metadata": {
        "id": "j4wmTtFXDjJd"
      }
    },
    {
      "cell_type": "markdown",
      "source": [
        "## คำสั่ง if (if statements)\n",
        "if condition:\n",
        "> statements\n",
        "\n"
      ],
      "metadata": {
        "id": "GyW3H8X2QKRU"
      }
    },
    {
      "cell_type": "code",
      "source": [
        "a = 30\n",
        "b = 20\n",
        "if a > b:\n",
        "    print(\"a is greater than b\")"
      ],
      "metadata": {
        "colab": {
          "base_uri": "https://localhost:8080/"
        },
        "id": "6G98e1lFRNIa",
        "outputId": "b1d1cd86-92d6-48c4-d613-bfe729ca98c2"
      },
      "execution_count": null,
      "outputs": [
        {
          "output_type": "stream",
          "name": "stdout",
          "text": [
            "a is greater than b\n"
          ]
        }
      ]
    },
    {
      "cell_type": "markdown",
      "source": [
        "## คำสั่ง if-else (if-else statements)\n",
        "if condition:\n",
        "> statements\n",
        "\n",
        "else:\n",
        "> statements\n",
        "\n",
        "\n",
        "\n"
      ],
      "metadata": {
        "id": "35WdPBNOT-3e"
      }
    },
    {
      "cell_type": "code",
      "source": [
        "a = 50\t\n",
        "b = 30\n",
        "\n",
        "if a > b:\n",
        "    print(\"a is greater than b\") \n",
        "else:\n",
        "    print(\"a is less than or equal to b\")"
      ],
      "metadata": {
        "colab": {
          "base_uri": "https://localhost:8080/"
        },
        "id": "pkybSOPU_kgu",
        "outputId": "7bd71c65-9537-4fee-aebb-533b33d97260"
      },
      "execution_count": null,
      "outputs": [
        {
          "output_type": "stream",
          "name": "stdout",
          "text": [
            "a is greater than b\n"
          ]
        }
      ]
    },
    {
      "cell_type": "markdown",
      "source": [
        "## คำสั่ง if-elif (if-elif statements)\n",
        "if condition1:\n",
        "\n",
        "> statements\n",
        "\n",
        "\n",
        "elif condition2:\n",
        "\n",
        "> statements\n",
        "\n",
        "else:\n",
        ">statements\n",
        "\n"
      ],
      "metadata": {
        "id": "6MYGlgBYUnLJ"
      }
    },
    {
      "cell_type": "code",
      "source": [
        "a = 20\n",
        "b = 30\n",
        "\n",
        "if a > b:\n",
        "    print(\"a is greater than b\")\n",
        "elif a < b:\n",
        "    print(\"a is less than b\")\n",
        "else:\n",
        "    print(\"a is equal to b\")"
      ],
      "metadata": {
        "colab": {
          "base_uri": "https://localhost:8080/"
        },
        "id": "I2sctZVE_tv1",
        "outputId": "81d38ad2-68ef-4d2b-84e2-ac18ce25dc5c"
      },
      "execution_count": null,
      "outputs": [
        {
          "output_type": "stream",
          "name": "stdout",
          "text": [
            "a is less than b\n"
          ]
        }
      ]
    },
    {
      "cell_type": "markdown",
      "source": [
        "## คำสั่ง if ซ้อน if (Nested If)"
      ],
      "metadata": {
        "id": "ua_oTMA9UaIb"
      }
    },
    {
      "cell_type": "code",
      "source": [
        "number = 5\n",
        "\n",
        "if number == 0:\n",
        "    print(number,\"is zero\")\n",
        "else:\n",
        "    if number > 0:\n",
        "        print(number, \"is positive\")\n",
        "    else:\n",
        "        print(number, \"is negative\")"
      ],
      "metadata": {
        "id": "eWClvIqDUleu",
        "colab": {
          "base_uri": "https://localhost:8080/"
        },
        "outputId": "4d40c889-cec1-4d55-dcc8-6cb6a021e9ab"
      },
      "execution_count": null,
      "outputs": [
        {
          "output_type": "stream",
          "name": "stdout",
          "text": [
            "5 is positive\n"
          ]
        }
      ]
    },
    {
      "cell_type": "markdown",
      "source": [
        "## ลูป while\n",
        "while condition:\n",
        "> statements"
      ],
      "metadata": {
        "id": "ozVZP-kVVYD1"
      }
    },
    {
      "cell_type": "code",
      "source": [
        "x = 1\n",
        "\n",
        "while x < 6:\n",
        "    print(x)\n",
        "    x += 1"
      ],
      "metadata": {
        "id": "keysFTJTVce9",
        "colab": {
          "base_uri": "https://localhost:8080/"
        },
        "outputId": "204bf2ce-a5ce-4583-c542-3a921701d73b"
      },
      "execution_count": null,
      "outputs": [
        {
          "output_type": "stream",
          "name": "stdout",
          "text": [
            "1\n",
            "2\n",
            "3\n",
            "4\n",
            "5\n"
          ]
        }
      ]
    },
    {
      "cell_type": "markdown",
      "source": [
        "## ลูป for\n",
        "for value in sequence:\n",
        "> statements"
      ],
      "metadata": {
        "id": "pQ_4-3rJVdgB"
      }
    },
    {
      "cell_type": "code",
      "source": [
        "my_list = ['A', 'B', 'C', 'D']\n",
        "\n",
        "for x in my_list:\n",
        "    print(x)"
      ],
      "metadata": {
        "id": "eK9umFFxViSd",
        "colab": {
          "base_uri": "https://localhost:8080/"
        },
        "outputId": "8da9f47f-f464-4936-e250-a75eae65ce32"
      },
      "execution_count": null,
      "outputs": [
        {
          "output_type": "stream",
          "name": "stdout",
          "text": [
            "A\n",
            "B\n",
            "C\n",
            "D\n"
          ]
        }
      ]
    },
    {
      "cell_type": "code",
      "source": [
        "my_tuple = ('A', 'B', 'C', 'D')\n",
        "\n",
        "for x in my_tuple:\n",
        "    print(x)"
      ],
      "metadata": {
        "colab": {
          "base_uri": "https://localhost:8080/"
        },
        "id": "iAMWqruvBqp8",
        "outputId": "d608da22-9294-40bd-97f4-8b4a8dc6839c"
      },
      "execution_count": null,
      "outputs": [
        {
          "output_type": "stream",
          "name": "stdout",
          "text": [
            "A\n",
            "B\n",
            "C\n",
            "D\n"
          ]
        }
      ]
    },
    {
      "cell_type": "code",
      "source": [
        "my_set = {'A', 'B', 'C', 'D'}\n",
        "\n",
        "for x in my_set:\n",
        "    print(x)"
      ],
      "metadata": {
        "colab": {
          "base_uri": "https://localhost:8080/"
        },
        "id": "dTNrA1MKBxpg",
        "outputId": "b605e19d-f8c1-4598-8f7a-0532a465731a"
      },
      "execution_count": null,
      "outputs": [
        {
          "output_type": "stream",
          "name": "stdout",
          "text": [
            "A\n",
            "C\n",
            "B\n",
            "D\n"
          ]
        }
      ]
    },
    {
      "cell_type": "code",
      "source": [
        "my_dict = {1:'A', 2:'B', 3:'C', 4:'D'}\n",
        "\n",
        "for key, value in my_dict.items():\n",
        "  print(key,value)"
      ],
      "metadata": {
        "colab": {
          "base_uri": "https://localhost:8080/"
        },
        "id": "lYccZFo6B1_3",
        "outputId": "bffc6714-33cc-484d-b59a-d642d7319f73"
      },
      "execution_count": null,
      "outputs": [
        {
          "output_type": "stream",
          "name": "stdout",
          "text": [
            "1 A\n",
            "2 B\n",
            "3 C\n",
            "4 D\n"
          ]
        }
      ]
    },
    {
      "cell_type": "code",
      "source": [
        "for x in range(6):\n",
        "  print(x)"
      ],
      "metadata": {
        "colab": {
          "base_uri": "https://localhost:8080/"
        },
        "id": "-b4cO2paFt_Q",
        "outputId": "f28b0a2c-152b-4ff0-bd9e-76dedb562314"
      },
      "execution_count": null,
      "outputs": [
        {
          "output_type": "stream",
          "name": "stdout",
          "text": [
            "0\n",
            "1\n",
            "2\n",
            "3\n",
            "4\n",
            "5\n"
          ]
        }
      ]
    },
    {
      "cell_type": "markdown",
      "source": [
        "# ฟังก์ชัน (Functions)\n",
        "def function_name(parameters):\n",
        "> statements"
      ],
      "metadata": {
        "id": "z-7E8M1IDTmu"
      }
    },
    {
      "cell_type": "markdown",
      "source": [
        "## การประกาศฟังก์ชัน (Defining a Function)"
      ],
      "metadata": {
        "id": "RpL4xPeSD9qd"
      }
    },
    {
      "cell_type": "markdown",
      "source": [
        "### ฟังก์ชันแบบไม่มีพารามิเตอร์ (Parameters)"
      ],
      "metadata": {
        "id": "AKyVUCIFOzkt"
      }
    },
    {
      "cell_type": "code",
      "source": [
        ""
      ],
      "metadata": {
        "id": "vUP3EfghEbPt"
      },
      "execution_count": null,
      "outputs": []
    },
    {
      "cell_type": "markdown",
      "source": [
        "### ฟังก์ชันแบบมีพารามิเตอร์ (Parameters)"
      ],
      "metadata": {
        "id": "ICDTU8z-O_Xc"
      }
    },
    {
      "cell_type": "code",
      "source": [
        ""
      ],
      "metadata": {
        "id": "3Pf62fxAPHHs"
      },
      "execution_count": null,
      "outputs": []
    },
    {
      "cell_type": "markdown",
      "source": [
        "## การเรียกใช้งานฟังก์ชัน (Calling a Function)\n",
        "function_name(parameters)"
      ],
      "metadata": {
        "id": "DhI8J-njEJWV"
      }
    },
    {
      "cell_type": "code",
      "source": [
        ""
      ],
      "metadata": {
        "id": "7mEXarLXDXlR"
      },
      "execution_count": null,
      "outputs": []
    },
    {
      "cell_type": "markdown",
      "source": [
        "## Default Parameters"
      ],
      "metadata": {
        "id": "lQVkhMqIEpY1"
      }
    },
    {
      "cell_type": "code",
      "source": [
        ""
      ],
      "metadata": {
        "id": "BsnTA-n1Et0i"
      },
      "execution_count": null,
      "outputs": []
    },
    {
      "cell_type": "markdown",
      "source": [
        "## การส่งค่ากลับ (Return Values) ของฟังก์ชัน"
      ],
      "metadata": {
        "id": "2YU_dhAFE5F-"
      }
    },
    {
      "cell_type": "code",
      "source": [
        ""
      ],
      "metadata": {
        "id": "Fl8l2zzKGq1_"
      },
      "execution_count": null,
      "outputs": []
    },
    {
      "cell_type": "markdown",
      "source": [
        "# โมดูล (Modules)\n",
        "โมดูลเป็นไฟล์ (file) ที่ใช้สำหรับเก็บฟังก์ชันหรือคลาส"
      ],
      "metadata": {
        "id": "5NlIn0dPGpaA"
      }
    },
    {
      "cell_type": "code",
      "source": [
        ""
      ],
      "metadata": {
        "id": "OtD4v2dnE_GR"
      },
      "execution_count": null,
      "outputs": []
    },
    {
      "cell_type": "markdown",
      "source": [
        "# แพ็กเกจ (Packages)\n",
        "เป็นไดเรกทอรี (directory) ที่ใช้สำหรับเก็บโมดูล"
      ],
      "metadata": {
        "id": "wC0o3BejGu3m"
      }
    },
    {
      "cell_type": "code",
      "source": [
        ""
      ],
      "metadata": {
        "id": "ZeJ1t0jiGyxQ"
      },
      "execution_count": null,
      "outputs": []
    },
    {
      "cell_type": "markdown",
      "source": [
        "# การเขียนโปรแกรมเชิงอ็อบเจกต์ (Object Oriented Programming)"
      ],
      "metadata": {
        "id": "NLw4NRXbJR2l"
      }
    },
    {
      "cell_type": "markdown",
      "source": [
        "## การประกาศ Class"
      ],
      "metadata": {
        "id": "KjK8Ln84JnUO"
      }
    },
    {
      "cell_type": "code",
      "source": [
        ""
      ],
      "metadata": {
        "id": "NKIHojtEJmgd"
      },
      "execution_count": null,
      "outputs": []
    },
    {
      "cell_type": "markdown",
      "source": [
        "## การประกาศ Attributes"
      ],
      "metadata": {
        "id": "Xjco4PcoJyh8"
      }
    },
    {
      "cell_type": "code",
      "source": [
        ""
      ],
      "metadata": {
        "id": "B__VEEoJJlqh"
      },
      "execution_count": null,
      "outputs": []
    },
    {
      "cell_type": "markdown",
      "source": [
        "## การประกาศ Methods"
      ],
      "metadata": {
        "id": "Ozjpv456J5SM"
      }
    },
    {
      "cell_type": "code",
      "source": [
        ""
      ],
      "metadata": {
        "id": "LMxSZbGjJ9Fx"
      },
      "execution_count": null,
      "outputs": []
    },
    {
      "cell_type": "markdown",
      "source": [
        "## การสร้าง Object"
      ],
      "metadata": {
        "id": "kFD5w-SyKJJE"
      }
    },
    {
      "cell_type": "code",
      "source": [
        ""
      ],
      "metadata": {
        "id": "cfqBfXmGKKER"
      },
      "execution_count": null,
      "outputs": []
    },
    {
      "cell_type": "markdown",
      "source": [
        "## การเรียกใช้งาน Object"
      ],
      "metadata": {
        "id": "I3Pqm-ggKNrJ"
      }
    },
    {
      "cell_type": "code",
      "source": [
        ""
      ],
      "metadata": {
        "id": "WwjTO-MOKPax"
      },
      "execution_count": null,
      "outputs": []
    }
  ]
}